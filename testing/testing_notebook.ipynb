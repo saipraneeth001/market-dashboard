{
 "cells": [
  {
   "cell_type": "code",
   "execution_count": 1,
   "id": "dd3dcb5e",
   "metadata": {},
   "outputs": [],
   "source": [
    "import os\n",
    "import time\n",
    "import json\n",
    "import math\n",
    "import requests\n",
    "import logging\n",
    "import pyotp\n",
    "import yaml\n",
    "import pandas as pd\n",
    "import numpy as np\n",
    "from datetime import datetime, timedelta\n",
    "from api_helper import ShoonyaApiPy"
   ]
  },
  {
   "cell_type": "code",
   "execution_count": 2,
   "id": "1ff96c38",
   "metadata": {},
   "outputs": [],
   "source": [
    "with open('cred.yml') as f:\n",
    "    cred = yaml.load(f, Loader=yaml.FullLoader)"
   ]
  },
  {
   "cell_type": "code",
   "execution_count": 3,
   "id": "2ede547a",
   "metadata": {},
   "outputs": [],
   "source": [
    "    token = cred['token']\n",
    "    user = cred['user']\n",
    "    pwd = cred['pwd']\n",
    "    factor2 = pyotp.TOTP(token).now()\n",
    "    vc = cred['vc']\n",
    "    app_key = cred['apikey']\n",
    "    imei = cred['imei']\n",
    "\n",
    "    nse_exchange = \"NSE\"\n",
    "    nse_token = \"26000\"\n",
    "    bse_exchange = \"BSE\"\n",
    "    bse_token = \"1\"\n",
    "    vix_token = \"26017\"\n",
    "    days = 1\n",
    "    interval = \"1\""
   ]
  },
  {
   "cell_type": "code",
   "execution_count": 4,
   "id": "a7790662",
   "metadata": {},
   "outputs": [
    {
     "name": "stdout",
     "output_type": "stream",
     "text": [
      "Login Successful!\n"
     ]
    }
   ],
   "source": [
    "    api = ShoonyaApiPy()\n",
    "    api.login(userid=user, password=pwd, twoFA=factor2, vendor_code=vc, api_secret=app_key, imei=imei)\n",
    "    print(\"Login Successful!\")"
   ]
  },
  {
   "cell_type": "code",
   "execution_count": 5,
   "id": "ca439478",
   "metadata": {},
   "outputs": [],
   "source": [
    "\n",
    "\n",
    "    def get_time_series(exchange, token, days, interval):\n",
    "        now = datetime.now().replace(hour=0, minute=0, second=0, microsecond=0)\n",
    "        prev_day = now - timedelta(days=days)\n",
    "        ret = api.get_time_price_series(exchange=exchange, token=token, starttime=prev_day.timestamp(), interval=interval)\n",
    "        return pd.DataFrame(ret) if ret else None\n",
    "    \n",
    "    def process_df(df):\n",
    "        df = df.sort_index(ascending=False)\n",
    "        df[['intl', 'inth']] = df[['intl', 'inth']].apply(pd.to_numeric)\n",
    "        return df"
   ]
  },
  {
   "cell_type": "code",
   "execution_count": 6,
   "id": "d0c879e7",
   "metadata": {},
   "outputs": [
    {
     "ename": "TypeError",
     "evalue": "'NoneType' object is not subscriptable",
     "output_type": "error",
     "traceback": [
      "\u001b[1;31m---------------------------------------------------------------------------\u001b[0m",
      "\u001b[1;31mTypeError\u001b[0m                                 Traceback (most recent call last)",
      "Cell \u001b[1;32mIn[6], line 4\u001b[0m\n\u001b[0;32m      1\u001b[0m nse_df \u001b[38;5;241m=\u001b[39m get_time_series(nse_exchange, nse_token, days, interval)\n\u001b[0;32m      2\u001b[0m bse_df \u001b[38;5;241m=\u001b[39m get_time_series(bse_exchange, bse_token, days, interval)\n\u001b[1;32m----> 4\u001b[0m nse_df[\u001b[38;5;124m'\u001b[39m\u001b[38;5;124mtime\u001b[39m\u001b[38;5;124m'\u001b[39m] \u001b[38;5;241m=\u001b[39m pd\u001b[38;5;241m.\u001b[39mto_datetime(\u001b[43mnse_df\u001b[49m\u001b[43m[\u001b[49m\u001b[38;5;124;43m'\u001b[39;49m\u001b[38;5;124;43mtime\u001b[39;49m\u001b[38;5;124;43m'\u001b[39;49m\u001b[43m]\u001b[49m, \u001b[38;5;28mformat\u001b[39m\u001b[38;5;241m=\u001b[39m\u001b[38;5;124m'\u001b[39m\u001b[38;5;132;01m%d\u001b[39;00m\u001b[38;5;124m-\u001b[39m\u001b[38;5;124m%\u001b[39m\u001b[38;5;124mm-\u001b[39m\u001b[38;5;124m%\u001b[39m\u001b[38;5;124mY \u001b[39m\u001b[38;5;124m%\u001b[39m\u001b[38;5;124mH:\u001b[39m\u001b[38;5;124m%\u001b[39m\u001b[38;5;124mM:\u001b[39m\u001b[38;5;124m%\u001b[39m\u001b[38;5;124mS\u001b[39m\u001b[38;5;124m'\u001b[39m)\n\u001b[0;32m      5\u001b[0m nse_pdc \u001b[38;5;241m=\u001b[39m \u001b[38;5;28mfloat\u001b[39m(nse_df\u001b[38;5;241m.\u001b[39msort_values(by\u001b[38;5;241m=\u001b[39m\u001b[38;5;124m'\u001b[39m\u001b[38;5;124mtime\u001b[39m\u001b[38;5;124m'\u001b[39m, ascending\u001b[38;5;241m=\u001b[39m\u001b[38;5;28;01mFalse\u001b[39;00m)\u001b[38;5;241m.\u001b[39miloc[\u001b[38;5;241m0\u001b[39m][\u001b[38;5;124m'\u001b[39m\u001b[38;5;124mintc\u001b[39m\u001b[38;5;124m'\u001b[39m])\n\u001b[0;32m      7\u001b[0m bse_df[\u001b[38;5;124m'\u001b[39m\u001b[38;5;124mtime\u001b[39m\u001b[38;5;124m'\u001b[39m] \u001b[38;5;241m=\u001b[39m pd\u001b[38;5;241m.\u001b[39mto_datetime(bse_df[\u001b[38;5;124m'\u001b[39m\u001b[38;5;124mtime\u001b[39m\u001b[38;5;124m'\u001b[39m], \u001b[38;5;28mformat\u001b[39m\u001b[38;5;241m=\u001b[39m\u001b[38;5;124m'\u001b[39m\u001b[38;5;132;01m%d\u001b[39;00m\u001b[38;5;124m-\u001b[39m\u001b[38;5;124m%\u001b[39m\u001b[38;5;124mm-\u001b[39m\u001b[38;5;124m%\u001b[39m\u001b[38;5;124mY \u001b[39m\u001b[38;5;124m%\u001b[39m\u001b[38;5;124mH:\u001b[39m\u001b[38;5;124m%\u001b[39m\u001b[38;5;124mM:\u001b[39m\u001b[38;5;124m%\u001b[39m\u001b[38;5;124mS\u001b[39m\u001b[38;5;124m'\u001b[39m)\n",
      "\u001b[1;31mTypeError\u001b[0m: 'NoneType' object is not subscriptable"
     ]
    }
   ],
   "source": [
    "    nse_df = get_time_series(nse_exchange, nse_token, days, interval)\n",
    "    bse_df = get_time_series(bse_exchange, bse_token, days, interval)\n",
    "\n",
    "    nse_df['time'] = pd.to_datetime(nse_df['time'], format='%d-%m-%Y %H:%M:%S')\n",
    "    nse_pdc = float(nse_df.sort_values(by='time', ascending=False).iloc[0]['intc'])\n",
    "\n",
    "    bse_df['time'] = pd.to_datetime(bse_df['time'], format='%d-%m-%Y %H:%M:%S')\n",
    "    bse_pdc = float(bse_df.sort_values(by='time', ascending=False).iloc[0]['intc'])"
   ]
  },
  {
   "cell_type": "code",
   "execution_count": null,
   "id": "9f7000ef",
   "metadata": {},
   "outputs": [],
   "source": [
    "    nse_df = process_df(nse_df)\n",
    "    bse_df = process_df(bse_df)\n",
    "\n",
    "    nse_resp = api.get_quotes(exchange=nse_exchange, token=nse_token)\n",
    "    bse_resp = api.get_quotes(exchange=bse_exchange, token=bse_token)\n",
    "    vix_resp = api.get_quotes(exchange=nse_exchange, token=vix_token)\n",
    "\n",
    "    nse_ltp = round(float(nse_resp['lp']),2)\n",
    "    nse_pdh = round(float(nse_df['inth'].max()),2)\n",
    "    nse_pdl = round(float(nse_df['intl'].min()),2)\n",
    "    nse_pdc = round(nse_pdc,2)\n",
    "    nse_cdh = round(float(nse_resp.get('h', nse_resp['c'])),2)\n",
    "    nse_cdl = round(float(nse_resp.get('l', nse_resp['c'])),2)\n",
    "    nse_hh = round(nse_ltp - nse_pdl,2)\n",
    "    nse_ll = round(nse_pdh - nse_ltp,2)\n",
    "    nse_ill = round(nse_cdh - nse_ltp,2)\n",
    "    nse_ihh = round(nse_ltp - nse_cdl,2)\n",
    "    nse_c2c = nse_ltp - nse_pdc\n",
    "    \n",
    "\n",
    "    bse_ltp = round(float(bse_resp['lp']),2)\n",
    "    bse_pdh = round(float(bse_df['inth'].max()),2)\n",
    "    bse_pdl = round(float(bse_df['intl'].min()),2)\n",
    "    bse_pdc = round(bse_pdc,2)\n",
    "    bse_cdh = round(float(bse_resp.get('h', bse_resp['c'])),2)\n",
    "    bse_cdl = round(float(bse_resp.get('l', bse_resp['c'])),2)\n",
    "    bse_hh = round(bse_ltp - bse_pdl,2)\n",
    "    bse_ll = round(bse_pdh - bse_ltp,2)\n",
    "    bse_ill = round(bse_cdh - bse_ltp,2)\n",
    "    bse_ihh = round(bse_ltp - bse_cdl,2)\n",
    "    bse_c2c = bse_ltp - bse_pdc\n",
    "\n",
    "\n",
    "    vix = float(vix_resp['lp'])"
   ]
  },
  {
   "cell_type": "code",
   "execution_count": null,
   "id": "fa197f40",
   "metadata": {},
   "outputs": [
    {
     "name": "stdout",
     "output_type": "stream",
     "text": [
      "nse_ltp  :  24853.15\n",
      "nse_pdh  :  24908.85\n",
      "nse_pdl  :  24614.65\n",
      "nse_cdh  :  24853.15\n",
      "nse_cdl  :  24853.15\n",
      "nse_hh  :  238.5\n",
      "nse_ll  :  55.7\n",
      "nse_ihh  :  0.0\n",
      "nse_c2c  :  55.7\n",
      "vix :  17.28\n"
     ]
    }
   ],
   "source": [
    "print(\"nse_ltp  : \" ,nse_ltp)\n",
    "print(\"nse_pdh  : \" ,nse_pdh)\n",
    "print(\"nse_pdl  : \" ,nse_pdl)\n",
    "print(\"nse_cdh  : \" ,nse_cdh)\n",
    "print(\"nse_cdl  : \" ,nse_cdl)\n",
    "print(\"nse_hh  : \" ,nse_hh)\n",
    "print(\"nse_ll  : \" ,nse_ll)\n",
    "print(\"nse_ihh  : \" ,nse_ihh)\n",
    "print(\"nse_c2c  : \" ,nse_ll)\n",
    "print(\"vix : \", vix)"
   ]
  },
  {
   "cell_type": "code",
   "execution_count": null,
   "id": "8660ca9c",
   "metadata": {},
   "outputs": [
    {
     "name": "stdout",
     "output_type": "stream",
     "text": [
      "bse_ltp  :  81721.08\n",
      "bse_pdh  :  81904.19\n",
      "bse_pdl  :  80904.08\n",
      "bse_cdh  :  81721.08\n",
      "bse_cdl  :  81721.08\n",
      "bse_hh  :  817.0\n",
      "bse_ll  :  183.11\n",
      "bse_ihh  :  0.0\n",
      "bse_c2c  :  183.11\n"
     ]
    }
   ],
   "source": [
    "print(\"bse_ltp  : \" ,bse_ltp)\n",
    "print(\"bse_pdh  : \" ,bse_pdh)\n",
    "print(\"bse_pdl  : \" ,bse_pdl)\n",
    "print(\"bse_cdh  : \" ,bse_cdh)\n",
    "print(\"bse_cdl  : \" ,bse_cdl)\n",
    "print(\"bse_hh  : \" ,bse_hh)\n",
    "print(\"bse_ll  : \" ,bse_ll)\n",
    "print(\"bse_ihh  : \" ,bse_ihh)\n",
    "print(\"bse_c2c  : \" ,bse_ll)"
   ]
  },
  {
   "cell_type": "code",
   "execution_count": null,
   "id": "4daf4e58",
   "metadata": {},
   "outputs": [],
   "source": [
    "(exchange, tradingsymbol, strikeprice, count)\n",
    "\n",
    "api.get_option_chain(exchange=nse_exchange, token=nse_token)"
   ]
  }
 ],
 "metadata": {
  "kernelspec": {
   "display_name": "Python 3",
   "language": "python",
   "name": "python3"
  },
  "language_info": {
   "codemirror_mode": {
    "name": "ipython",
    "version": 3
   },
   "file_extension": ".py",
   "mimetype": "text/x-python",
   "name": "python",
   "nbconvert_exporter": "python",
   "pygments_lexer": "ipython3",
   "version": "3.9.0"
  }
 },
 "nbformat": 4,
 "nbformat_minor": 5
}
