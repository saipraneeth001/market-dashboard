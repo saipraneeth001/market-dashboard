{
 "cells": [
  {
   "cell_type": "code",
   "execution_count": 102,
   "id": "40ac1f05",
   "metadata": {},
   "outputs": [],
   "source": [
    "import os\n",
    "import time\n",
    "import json\n",
    "import math\n",
    "import requests\n",
    "import logging\n",
    "import pandas as pd\n",
    "import numpy as np"
   ]
  },
  {
   "cell_type": "code",
   "execution_count": 103,
   "id": "f7bf6acc",
   "metadata": {},
   "outputs": [],
   "source": [
    "# Urls for fetching Data\n",
    "url_oc      = \"https://www.nseindia.com/option-chain\"\n",
    "url_bnf     = 'https://www.nseindia.com/api/option-chain-indices?symbol=BANKNIFTY'\n",
    "url_nf      = 'https://www.nseindia.com/api/option-chain-indices?symbol=NIFTY'\n",
    "url_indices = \"https://www.nseindia.com/api/allIndices\""
   ]
  },
  {
   "cell_type": "code",
   "execution_count": 110,
   "id": "1999f116",
   "metadata": {},
   "outputs": [],
   "source": [
    "# Headers\n",
    "headers = {'user-agent': 'Chrome/137.0.0.0',\n",
    "            'accept-language': 'en-GB,en;q=0.9'}\n",
    "\n",
    "sess = requests.Session()\n",
    "cookies = dict()\n"
   ]
  },
  {
   "cell_type": "code",
   "execution_count": 111,
   "id": "fe212c4c",
   "metadata": {},
   "outputs": [],
   "source": [
    "cookies = dict()\n",
    "\n",
    "# Local methods\n",
    "def set_cookie():\n",
    "    request = sess.get(url_nf, headers=headers, timeout=5)\n",
    "    cookies = dict(request.cookies)"
   ]
  },
  {
   "cell_type": "code",
   "execution_count": 112,
   "id": "f58eddc3",
   "metadata": {},
   "outputs": [],
   "source": [
    "def get_data(url):\n",
    "    set_cookie()\n",
    "    response = sess.get(url, headers=headers, timeout=5, cookies=cookies)\n",
    "    if(response.status_code==401):\n",
    "        set_cookie()\n",
    "        response = sess.get(url_nf, headers=headers, timeout=5, cookies=cookies)\n",
    "    if(response.status_code==200):\n",
    "        return response.text\n",
    "    return \"\""
   ]
  },
  {
   "cell_type": "code",
   "execution_count": 113,
   "id": "2365b6bd",
   "metadata": {},
   "outputs": [],
   "source": [
    "response = sess.get(url_bnf, headers=headers, timeout=20, cookies=cookies)"
   ]
  },
  {
   "cell_type": "code",
   "execution_count": 115,
   "id": "85699785",
   "metadata": {},
   "outputs": [
    {
     "data": {
      "text/plain": [
       "'<!DOCTYPE html>\\n<html lang=\"en\">\\n<head>\\n  <meta charset=\"UTF-8\">\\n  <title>Resource not found</title>\\n</head>\\n<body style=\"background-color: #e8e8e8;\">\\n  <div style=\"font-size: 32px; padding: 50px 25px; text-align: center;\">\\n    Resource not found\\n  </div>\\n</body>\\n</html>\\n'"
      ]
     },
     "execution_count": 115,
     "metadata": {},
     "output_type": "execute_result"
    }
   ],
   "source": [
    "response.text"
   ]
  },
  {
   "cell_type": "code",
   "execution_count": 84,
   "id": "7d1c5d2a",
   "metadata": {},
   "outputs": [],
   "source": [
    "def custom_round_to_nearest(x, num = 50):\n",
    "    if x % 50 <= 25:\n",
    "        return x - (x % num)\n",
    "    else:\n",
    "        return x + (num - (x % num))\n",
    "    \n",
    "def nearest_strike_bnf(x): return int(custom_round_to_nearest(x,100))\n",
    "def nearest_strike_nf(x): return int(custom_round_to_nearest(x,50))\n",
    "\n"
   ]
  },
  {
   "cell_type": "code",
   "execution_count": null,
   "id": "0f3f71a7",
   "metadata": {},
   "outputs": [],
   "source": [
    "\n"
   ]
  },
  {
   "cell_type": "code",
   "execution_count": 63,
   "id": "136bb32a",
   "metadata": {},
   "outputs": [],
   "source": [
    "def get_data(url):\n",
    "    set_cookie()\n",
    "    response = sess.get(url, headers=headers, timeout=5, cookies=cookies)\n",
    "    if(response.status_code==401):\n",
    "        set_cookie()\n",
    "        response = sess.get(url_nf, headers=headers, timeout=5, cookies=cookies)\n",
    "    if(response.status_code==200):\n",
    "        return response.text\n",
    "    return \"\""
   ]
  },
  {
   "cell_type": "code",
   "execution_count": 66,
   "id": "3606bfac",
   "metadata": {},
   "outputs": [],
   "source": [
    "request = sess.get(url_nf, headers=headers, timeout=5)"
   ]
  },
  {
   "cell_type": "code",
   "execution_count": 67,
   "id": "2748a179",
   "metadata": {},
   "outputs": [
    {
     "data": {
      "text/plain": [
       "'<!DOCTYPE html>\\n<html lang=\"en\">\\n<head>\\n  <meta charset=\"UTF-8\">\\n  <title>Resource not found</title>\\n</head>\\n<body style=\"background-color: #e8e8e8;\">\\n  <div style=\"font-size: 32px; padding: 50px 25px; text-align: center;\">\\n    Resource not found\\n  </div>\\n</body>\\n</html>\\n'"
      ]
     },
     "execution_count": 67,
     "metadata": {},
     "output_type": "execute_result"
    }
   ],
   "source": [
    "request.text"
   ]
  },
  {
   "cell_type": "code",
   "execution_count": null,
   "id": "c572080f",
   "metadata": {},
   "outputs": [],
   "source": []
  },
  {
   "cell_type": "code",
   "execution_count": 12,
   "id": "709d2b7a",
   "metadata": {},
   "outputs": [],
   "source": [
    "def set_header():\n",
    "    global bnf_ul\n",
    "    global nf_ul\n",
    "    global bnf_nearest\n",
    "    global nf_nearest\n",
    "    response_text = get_data(url_indices)\n",
    "    data = json.loads(response_text)\n",
    "    for index in data[\"data\"]:\n",
    "        if index[\"index\"]==\"NIFTY 50\":\n",
    "            nf_ul = index[\"last\"]\n",
    "            logging.debug(f\"NIFTY LTP is : {nf_ul}\")\n",
    "        if index[\"index\"]==\"NIFTY BANK\":\n",
    "            bnf_ul = index[\"last\"]\n",
    "            logging.debug(f\"NIFTY BANK LTP is : {bnf_ul}\")\n",
    "    logging.info('Fetched latest NIFTY and BANK NIFTY LTP')\n",
    "    logging.info(f'LTP NIFTY - {nf_ul} and BANK NIFTY - {bnf_ul}')\n",
    "    bnf_nearest=nearest_strike_bnf(bnf_ul)\n",
    "    nf_nearest=nearest_strike_nf(nf_ul)"
   ]
  },
  {
   "cell_type": "code",
   "execution_count": 13,
   "id": "9d75a856",
   "metadata": {},
   "outputs": [],
   "source": [
    "def fetch_options(num,step,nearest,url):\n",
    "    \"\"\"\n",
    "    num : Num of OTM's for CALL and PUT\n",
    "    step: window of difference between each ATM\n",
    "    nearest : rounded LTP Price\n",
    "    url: url of the Scrip\n",
    "    \"\"\"\n",
    "    strike = nearest - (step*num)\n",
    "    start_strike = nearest - (step*num)\n",
    "    response_text = get_data(url)\n",
    "    data = json.loads(response_text)\n",
    "    currExpiryDate = data[\"records\"][\"expiryDates\"][0]\n",
    "    sam_list = []\n",
    "    for item in data['records']['data']:\n",
    "        if item[\"expiryDate\"] == currExpiryDate:\n",
    "            if item[\"strikePrice\"] == strike and item[\"strikePrice\"] <= start_strike+(step*num*2):\n",
    "                flattened_entry = {\n",
    "                    'expiryDate': item['expiryDate'],\n",
    "                    'CE_strikePrice': item['CE']['strikePrice'],\n",
    "                    'CE expiryDate': item['CE']['expiryDate'],\n",
    "                    'PE_strikePrice': item['PE']['strikePrice'],\n",
    "                    'PE expiryDate': item['PE']['expiryDate'],\n",
    "                    'CE_IV': item['CE']['impliedVolatility'],\n",
    "                    'CE_LTP' : item['CE']['lastPrice'],\n",
    "                    'strikePrice': item['strikePrice'],\n",
    "                    'PE_LTP' : item['PE']['lastPrice'],# Flatten the 'CE' sub-dictionary\n",
    "                    'PE_IV' : item['PE']['impliedVolatility'],  # Flatten the 'PE' sub-dictionary\n",
    "                }\n",
    "                strike = strike + step\n",
    "                sam_list.append(flattened_entry)\n",
    "    return sam_list"
   ]
  },
  {
   "cell_type": "code",
   "execution_count": 14,
   "id": "5fa79b53",
   "metadata": {},
   "outputs": [
    {
     "ename": "JSONDecodeError",
     "evalue": "Expecting value: line 1 column 1 (char 0)",
     "output_type": "error",
     "traceback": [
      "\u001b[1;31m---------------------------------------------------------------------------\u001b[0m",
      "\u001b[1;31mJSONDecodeError\u001b[0m                           Traceback (most recent call last)",
      "Cell \u001b[1;32mIn[14], line 1\u001b[0m\n\u001b[1;32m----> 1\u001b[0m \u001b[43mset_header\u001b[49m\u001b[43m(\u001b[49m\u001b[43m)\u001b[49m\n\u001b[0;32m      3\u001b[0m data \u001b[38;5;241m=\u001b[39m fetch_options(\u001b[38;5;241m4\u001b[39m,\u001b[38;5;241m50\u001b[39m,nf_nearest,url_nf)\n",
      "Cell \u001b[1;32mIn[12], line 7\u001b[0m, in \u001b[0;36mset_header\u001b[1;34m()\u001b[0m\n\u001b[0;32m      5\u001b[0m \u001b[38;5;28;01mglobal\u001b[39;00m nf_nearest\n\u001b[0;32m      6\u001b[0m response_text \u001b[38;5;241m=\u001b[39m get_data(url_indices)\n\u001b[1;32m----> 7\u001b[0m data \u001b[38;5;241m=\u001b[39m \u001b[43mjson\u001b[49m\u001b[38;5;241;43m.\u001b[39;49m\u001b[43mloads\u001b[49m\u001b[43m(\u001b[49m\u001b[43mresponse_text\u001b[49m\u001b[43m)\u001b[49m\n\u001b[0;32m      8\u001b[0m \u001b[38;5;28;01mfor\u001b[39;00m index \u001b[38;5;129;01min\u001b[39;00m data[\u001b[38;5;124m\"\u001b[39m\u001b[38;5;124mdata\u001b[39m\u001b[38;5;124m\"\u001b[39m]:\n\u001b[0;32m      9\u001b[0m     \u001b[38;5;28;01mif\u001b[39;00m index[\u001b[38;5;124m\"\u001b[39m\u001b[38;5;124mindex\u001b[39m\u001b[38;5;124m\"\u001b[39m]\u001b[38;5;241m==\u001b[39m\u001b[38;5;124m\"\u001b[39m\u001b[38;5;124mNIFTY 50\u001b[39m\u001b[38;5;124m\"\u001b[39m:\n",
      "File \u001b[1;32mc:\\Users\\Asus4\\AppData\\Local\\Programs\\Python\\Python39\\lib\\json\\__init__.py:346\u001b[0m, in \u001b[0;36mloads\u001b[1;34m(s, cls, object_hook, parse_float, parse_int, parse_constant, object_pairs_hook, **kw)\u001b[0m\n\u001b[0;32m    341\u001b[0m     s \u001b[38;5;241m=\u001b[39m s\u001b[38;5;241m.\u001b[39mdecode(detect_encoding(s), \u001b[38;5;124m'\u001b[39m\u001b[38;5;124msurrogatepass\u001b[39m\u001b[38;5;124m'\u001b[39m)\n\u001b[0;32m    343\u001b[0m \u001b[38;5;28;01mif\u001b[39;00m (\u001b[38;5;28mcls\u001b[39m \u001b[38;5;129;01mis\u001b[39;00m \u001b[38;5;28;01mNone\u001b[39;00m \u001b[38;5;129;01mand\u001b[39;00m object_hook \u001b[38;5;129;01mis\u001b[39;00m \u001b[38;5;28;01mNone\u001b[39;00m \u001b[38;5;129;01mand\u001b[39;00m\n\u001b[0;32m    344\u001b[0m         parse_int \u001b[38;5;129;01mis\u001b[39;00m \u001b[38;5;28;01mNone\u001b[39;00m \u001b[38;5;129;01mand\u001b[39;00m parse_float \u001b[38;5;129;01mis\u001b[39;00m \u001b[38;5;28;01mNone\u001b[39;00m \u001b[38;5;129;01mand\u001b[39;00m\n\u001b[0;32m    345\u001b[0m         parse_constant \u001b[38;5;129;01mis\u001b[39;00m \u001b[38;5;28;01mNone\u001b[39;00m \u001b[38;5;129;01mand\u001b[39;00m object_pairs_hook \u001b[38;5;129;01mis\u001b[39;00m \u001b[38;5;28;01mNone\u001b[39;00m \u001b[38;5;129;01mand\u001b[39;00m \u001b[38;5;129;01mnot\u001b[39;00m kw):\n\u001b[1;32m--> 346\u001b[0m     \u001b[38;5;28;01mreturn\u001b[39;00m \u001b[43m_default_decoder\u001b[49m\u001b[38;5;241;43m.\u001b[39;49m\u001b[43mdecode\u001b[49m\u001b[43m(\u001b[49m\u001b[43ms\u001b[49m\u001b[43m)\u001b[49m\n\u001b[0;32m    347\u001b[0m \u001b[38;5;28;01mif\u001b[39;00m \u001b[38;5;28mcls\u001b[39m \u001b[38;5;129;01mis\u001b[39;00m \u001b[38;5;28;01mNone\u001b[39;00m:\n\u001b[0;32m    348\u001b[0m     \u001b[38;5;28mcls\u001b[39m \u001b[38;5;241m=\u001b[39m JSONDecoder\n",
      "File \u001b[1;32mc:\\Users\\Asus4\\AppData\\Local\\Programs\\Python\\Python39\\lib\\json\\decoder.py:337\u001b[0m, in \u001b[0;36mJSONDecoder.decode\u001b[1;34m(self, s, _w)\u001b[0m\n\u001b[0;32m    332\u001b[0m \u001b[38;5;28;01mdef\u001b[39;00m\u001b[38;5;250m \u001b[39m\u001b[38;5;21mdecode\u001b[39m(\u001b[38;5;28mself\u001b[39m, s, _w\u001b[38;5;241m=\u001b[39mWHITESPACE\u001b[38;5;241m.\u001b[39mmatch):\n\u001b[0;32m    333\u001b[0m \u001b[38;5;250m    \u001b[39m\u001b[38;5;124;03m\"\"\"Return the Python representation of ``s`` (a ``str`` instance\u001b[39;00m\n\u001b[0;32m    334\u001b[0m \u001b[38;5;124;03m    containing a JSON document).\u001b[39;00m\n\u001b[0;32m    335\u001b[0m \n\u001b[0;32m    336\u001b[0m \u001b[38;5;124;03m    \"\"\"\u001b[39;00m\n\u001b[1;32m--> 337\u001b[0m     obj, end \u001b[38;5;241m=\u001b[39m \u001b[38;5;28;43mself\u001b[39;49m\u001b[38;5;241;43m.\u001b[39;49m\u001b[43mraw_decode\u001b[49m\u001b[43m(\u001b[49m\u001b[43ms\u001b[49m\u001b[43m,\u001b[49m\u001b[43m \u001b[49m\u001b[43midx\u001b[49m\u001b[38;5;241;43m=\u001b[39;49m\u001b[43m_w\u001b[49m\u001b[43m(\u001b[49m\u001b[43ms\u001b[49m\u001b[43m,\u001b[49m\u001b[43m \u001b[49m\u001b[38;5;241;43m0\u001b[39;49m\u001b[43m)\u001b[49m\u001b[38;5;241;43m.\u001b[39;49m\u001b[43mend\u001b[49m\u001b[43m(\u001b[49m\u001b[43m)\u001b[49m\u001b[43m)\u001b[49m\n\u001b[0;32m    338\u001b[0m     end \u001b[38;5;241m=\u001b[39m _w(s, end)\u001b[38;5;241m.\u001b[39mend()\n\u001b[0;32m    339\u001b[0m     \u001b[38;5;28;01mif\u001b[39;00m end \u001b[38;5;241m!=\u001b[39m \u001b[38;5;28mlen\u001b[39m(s):\n",
      "File \u001b[1;32mc:\\Users\\Asus4\\AppData\\Local\\Programs\\Python\\Python39\\lib\\json\\decoder.py:355\u001b[0m, in \u001b[0;36mJSONDecoder.raw_decode\u001b[1;34m(self, s, idx)\u001b[0m\n\u001b[0;32m    353\u001b[0m     obj, end \u001b[38;5;241m=\u001b[39m \u001b[38;5;28mself\u001b[39m\u001b[38;5;241m.\u001b[39mscan_once(s, idx)\n\u001b[0;32m    354\u001b[0m \u001b[38;5;28;01mexcept\u001b[39;00m \u001b[38;5;167;01mStopIteration\u001b[39;00m \u001b[38;5;28;01mas\u001b[39;00m err:\n\u001b[1;32m--> 355\u001b[0m     \u001b[38;5;28;01mraise\u001b[39;00m JSONDecodeError(\u001b[38;5;124m\"\u001b[39m\u001b[38;5;124mExpecting value\u001b[39m\u001b[38;5;124m\"\u001b[39m, s, err\u001b[38;5;241m.\u001b[39mvalue) \u001b[38;5;28;01mfrom\u001b[39;00m\u001b[38;5;250m \u001b[39m\u001b[38;5;28;01mNone\u001b[39;00m\n\u001b[0;32m    356\u001b[0m \u001b[38;5;28;01mreturn\u001b[39;00m obj, end\n",
      "\u001b[1;31mJSONDecodeError\u001b[0m: Expecting value: line 1 column 1 (char 0)"
     ]
    }
   ],
   "source": [
    "set_header()\n",
    "\n",
    "data = fetch_options(4,50,nf_nearest,url_nf)"
   ]
  },
  {
   "cell_type": "code",
   "execution_count": null,
   "id": "b0172224",
   "metadata": {},
   "outputs": [],
   "source": [
    "df = pd.DataFrame(data)\n",
    "df= df[['expiryDate','CE_IV', 'CE_LTP', 'strikePrice', 'PE_LTP', 'PE_IV']]"
   ]
  },
  {
   "cell_type": "code",
   "execution_count": 20,
   "id": "6ea95382",
   "metadata": {},
   "outputs": [],
   "source": [
    "response_text = get_data(url_indices)"
   ]
  },
  {
   "cell_type": "code",
   "execution_count": 21,
   "id": "5fe254f7",
   "metadata": {},
   "outputs": [
    {
     "data": {
      "text/plain": [
       "'����b>\\x00��an��\\\\\\x16�ԏ��_�\\'C�#iJ\\x03+-�G\\x0eY\\x7f\\uebf5>�\\x05\\x00ԗ!�>`��&��=��=�Ū�����#V����ޝO\\x04*�Fŉh�r�<y�L�j> \\x0b7�\\x0f{G\\x03!迾���.f�Q\\x02*kޯ��w�(˿4�O�\\x1d��\\x7f��\\x0f���t\\\\M�|k��L�������\\x07���LǱ\\x1e��Gc;\\x0e������e\\x1c������J�pl�ʕ���\\x0f�\\x13�!��J\\x16�Z1\\x08t��2u��&Y���&_�+#��o~$�z|�������Y\\\\p/]x\\x127�z��C��槆d���в\\x0b\\x1bR8��o�k�ݿ�o�g��c;D��z|y�\\x0b�R�X���S\\x04�����Ň�����v��x��:%�z���[/�v�ؗ���%\\r\\x7f9�E�5\\x01�����c������7�낱\\x1e/�<��c�\\x03w��x�\\\\��\\n\\x7f\"�\\x05o\\x7f��ӧ��+\\x08=�A�~�/\\x02l�\\x1c��^��dq�s��[����/�Vhd\\x1c��8�s��������~�\\x1f\\x1b�oN�Η�������������N\\x16g4ՂC�ϟ~���l*E�����o��HGR��k^\\x1f�aztbx����KGr;u�I���z�\\x1dQ����#�E��\\x11a%H&\"\\x11�\\x03��٨�\\x07�@K\\x1a�y{�\\x11�\\x19�[3��h�%`�FD9/A(�5ۿe�\\x08��\\x1ay\\x1fٟ,\\x00&�%\\x1c��du0~��\\ue988D��h����;�y����k\\x17��1j\\x1e\\'�\\x7f�Zz�[{����\\x19fQ��V�bn�&�\\x11\\x0f�����y[p&�\\x030r+\\x10���j\\x1f��S\\x1b!�~\\x1b\\x14\\x01�HH��\\x14�S\\x13�q5Npg�dRW�awu\\x13\\x05�S��$�d�Q\\x14�ps>�\\x0e\\x17�nY\\x1d��\\x07���@��|X\\r�<�\\x08+\\'KO��\\x0e1H\\x0b\\x0bV8���h\\x07�J\\x08\\x14v����H�>\\x07�b�ܡ�(lJ`�ds~\\x14�ⴌy�\\n�r8ps>l(�@T\\x1c\\\\\\x0e�Q.\\\\��XC&���S��Q,+̂$�uH�\\x7fg?_^�\\ueb8e�2]�D��~�\\\\��\\x19���\\x11D\\x04(Qw����!�r\\x14\\x12\\x02�h&��\\x14\\x0f�@,5/\\x055N�Z�\\x15�vRjbQ���E�(\\x11�u\\x19�2\\x05��p�~�$T�6��4\\x8f�Q(�]�٤��I�N@\\t��~��\\x1f���\\x03L���7��v������tZ�\\x07.\\x07�\\x02�\\x06���0\\x18���\\x1eR\\x06va�k�\\x11\\x17�B�@F�:śb��\\n�\\t%�&�\\x01�;��n\\x0f�@�e� Q��6R-\\x0b�˝ �\\x1f�\\x0f���Be�\\x12\\r�\\x0e�\\r��>e��\\x1aY\\x1d�\\x0b����H�7⭼����T��S���9�tRXRЂy-k����J[\\x13Ś\\x0c��\\x1c=\\x06l��\\x1d��A�.\\x1d�Ƙ����\\x14Py\\x04E.\\x7f��g�ƣp?�W��[��A͆r��L$\\x082�B\\x00ue=nkux�1���\\x00@\\x08�ק�t^ķI�*e)\\ufb18�\\x12�2\\x1f,!��qD\\nZ?6��%^���bw\"n�[�\\x05�\\t�PR���^!��煳\\x18�\\x0e\\x15>��c�\\x16\\\\vaz\\r\"y�\\x10\\x04\\x1fJጴ�&\\x1f^*�R�OD��yh�ϫU��rf��y.�u�^�Ϋ��]\"5O��o�r�ِK\\x03qx��\\x14��Y\\x01�Ժ��-\\x15\\x10��\\x1c�\\x06T��\\u05faV\\x0b��ȩ\"�\\x05����_oP�{�}C��.\\x1f[o����y��2���\\x0eK�\\x11܍m��Er�\\x061P��啘\\'3\\x16Q�x�\\x115�|���M�0k�&�\\x06\\x18��\\x10u\\x0c��C�\\x14:\\x10�o\\x02t�А��p�b.\\x10\\ny�Q�o9q0��тk���a��6<�镄�0��]\"�M���������l0������Q��\\x1c��ݲ�³\\x1e���\\x0cS3\\x0c\"\\x06�(���a2�%r\\n\\x19��K� M�\"��\\x08�Y���@\\x10���#�2.�+EQ \\x1e$�J�GK-���ҿX��\\x0ek\\x10��H�<m���\\x11�.e��K�\\x11҃\\x1d7vt4C���D\\x03�d���Ճ�\\x11����T\\x18����\\x1b\\x017���S�\\\\̟�Ț��&�k���a��&����9w�p�ش\\x00\\x04���3�b�)��\\x14E�\\x1eV\\x0bw���ؒ�\\x051Qx]S�����\\x07��,�2�ԑf8����\\x08\\x04v�K�\\x02аԅ��\\x087�\\x142j�6\\'����p�.�hv�\\U000f4911EZ���eF\\\\�\\x13�(�Ԉ��a\\x12\\n��k����J\\x08�\\x0f*\\x1dl8�e$��\\x10�5��Y��\\\\I�͆\\x12ˤ.��$�j����\\x0bԺzm\\x0e.-s��.�>A!�S�B0\\\\i�~��]^�F�]�� eü�h�TN+\\\\�]\\x06�繣�rp<)�Ii\\t�ҶY�,�\\x19粒kf�5��Nr˖�B�zV���\\x1d�\\x0c�����=\\x16�\\x0eW\\x1afDhhϲ�\\x11�>�IWTu�a�\\x0f\\n����^ʝ��\\x1b�k�\\x01g�#L۔Bք��bP�R\\n�\\x1eNz� @r��D@p�\\x06�\\x1b{�\\x00��\\x16�X@\\\\���T\\x0e\\x1aS\\x1ejm^��q���B�\\x15�R���.b\\x0fMB�IO�Ih5�R<\\x13\\x1a\\x16N����ֺ\\x1a\\x05��+\\x002��K%-�KUYI��(�A��ѡ��R{���RS0������#\\r@f�\\x0bdH\\x04|�e�Њ`C�\"5�\\x00�Y\\x126a�3#u\\x7f9�\\ue3bd\\x15���n|��ü=I�c\\n{���\\x15Y)�\\x11^{�R�\\x0ex�T���|��h�C^#�\\x7f9�\\r%�E��A�9��k�ڐ�gڙ7\\x0b�{�P��f��\\x07�1��}M!���[�\\t�v\\r�\\x11\\x00a���l\\x1c^v\\u05f7�(X�M�=��\\x08�\\n�Y��\\x10-�f\\t����\\x087&$\\x0b��1�WM�3�;K\\x13��x�$q\\x16�G��M�Y���\\x08\\x1b����1\\x19\\x1a.�\\x04��5Z\\x06�116�5ǊX-q�\\x14��\\x1eA�\\x1fbG�&�K\\x1c>]�vKG\\x156�W�\\x1d��\\u0382?#�e�\"\\x16P-\\x08��(���\\t{��g)Hr�\\x0eû@\\x122\\x15Z&N��0��\\x14�\\x10�$=�\\x16�M�P�4/��\\n\\r�k��A!\\x07]�+6\\x1e��)�@\\'��BG�\\x04�l�1��\\x12\\x07�.�\\x19\\r�l��4d�\\x00�����w����������\\x15\\rD�ʚP�d\\x15��\\x14��+�� �n�mC\\n\\x11f���h\\x1b}y��x���BF\\x03z��8G�imt�L/�&�a.��<0J%��2��8\\x01\\x1d\\x13\\x13��\\x05��n���6\\x154̳@؟�P�����t��nِ�;|8ͷn����a�e\\x7f\\\\M��B\\x17�PSC�7kv��0�J\\t��1tNM+1b�{��\\x0e��!W��*�]*6�Q�Pl���aʒ��+Æ������y�\\x1f7ӽ%��H��\\x01�]�\\x0c�\\x15��z#�ݞ4L퓎2M�\\x02\\x0c\\nm%�wv�.NW\\u05fb�F�fw�te\\x1b���(�\\x1a���\\x15�!\\xadbSD]J��K��70�����\\x0eQ�@���}O�\\x0bu\\n5\\'�\"�t��\\x01s��\\x08\\\\b��\\x1f\\x00��]�E){f���C�ŗ(].���մ�ڙ%dfx���S`)�g_=3��Y�]�\\x1cb,>�#�H����O\\x1b�����=t�#�#S ��\\x00<�aei;����Bj\\x10F�V�F�R��\\x04V\\r���(�H���8�\\x17F\\x0c\\x00^�b\\x0c�v]2+��fƗ�e�8[vn�I��D��\\'����㵿�S����e҈�<�$p�\\x10��\\x04Ζ�\\x17�1�\\x00]@\\x0bXT!��\\x1c\\x17ۯU�\\x1e8\\x14�\\x11\\x02��\\x06�No=\\x17��y�\\n���^8[H\\x19�\\x07U�[Pe\\x12����*�J��\\x7f�Ŵ?��������,�7\\x07\\x04/S���\\x1eFic�E\\x16z\\x10�(�7!�+-}�{V��t�=� �4\\r\\x1d�*���o�\\x19\\x7fs\\n�M8\\'A�tw�_�\\x18R\\x1f�\\x01�b�f�\\\\#�+vi�Za\\x04]S�/�t�\\x04�\\x13\\u07b4>^�W�xM[�\\'��v�h����n�5����\\x15M�a��f1���4%�������2�ZH�qU�A�\\x08\\x1d��X��sDOr!LC\\n���8��[��-���\\x08��\\x16ʩ��pd�\"���d syu���,U\\x13�bo4�^�}=mK�F�\\x7f��^JQ�;ev�ۛ�t�C�j��-34A�W�ݸ\\x0b��B��P��2�3q�n\\x1dJm��Q�7�r|�H��\\x17\\u07b2m\\x7faZ�b��\\x19�4�� ږ\\x08�g\\x14�<C��sOUI&����\\x1dˍ�\\x7f���\\x1d�\\x1f\\x1dD\\x0b�l�x�)\\x1enQ-b6\\x15n��FJ�����4uC��y\\x1e�\\x1f<Zb��b(}�8��&�\\x0e\\x15�\\x11?@��9\\x13���o��\\x1dN=Q�N\\x0f�4\\x0cپ\\x08\\x17��ܤAU�]�>T�,5���+��,����@�0\\x0baj\\x01��+ǑYH!b�\\t���\\x02�\\x03\\x9c\\x1a\\x1f@��J�; �ْ��ԖtP�\\x05��$\\x0f&\\x14����C��m;�\\x15\\x0cW��v�\\x0e��ow˯�f����#昲�1�#�����\\x19��\\x7fK�D�\\x1fD4��__rg�%R��ΐC^��1��)���Zވd\\x05\\x14�FD�\\x0c�����=�,q�c��]e�y!Fr�r\\x18z[���FˣR�x�ī�|}���#�QU�4w�@�]�1z��\\x10 e��F����z��ҙ�S���\\x7f��8�\\x0c\\x06��ݧ�%\\x05\\x1ep�8��\\x08����Ա�R\\x0cK�d��;�9�8`�^�\\x06X��\\x12Y\\x01�蔂˹������=W/�Q�*>߇�7OB+T�.͞(\\x10Ckh|�\\x1f���!\\x16g����4�Z���\\x7f�����1|y����j\\x08���XK�n{�ڄ\\x14V\\x7fe�I�V&��;%�co\\x07�*>��\\x01���C����aK��zk��z�>\\x1f\\x1d�\\x0e\\x1f���Q�\\x14IG�5;4s\\\\\\x1c����o\\x19`V!�$�\\x14ח\\'*�Qu��ܾ|,�zY\\'뷕k��BN~K� ��\\x17���V�����\\x1d�\\x0e�\\x0b%\\'��W5���$Uy�2^��)s��\\'���:�\\x0c�\\x1ekԇ�\\x07�%�\\x1e39K�7]�C�E\\x12�퍃2�&!��0�:�i\\x10Y���}<\\x1f����O��}�u\\x13o�k��\\x13�n�\\x15�0:[d\\x12�6�iM\\x17�F\\x11�i����O�6\\x1a�\\'�\\x1b\\x023y\\x04�S\\x19\\x10����\\'R\\x06\\x02X\\x0e:M�c\\x0c{����%�,a-�q��!�0��~�OC�T\\x00�kt�d\\t��v\\x16f�%Z���s���yK��6�;��~\\x00ל[\\x1e�/�P\\x10ۡP�[th\\x15�ס\\x19�U����a}����;�T�9\\\\�L\\x1a�\\x1c\"̥�}�|\\x12S���\\nSS�\\x03��YG�@����6/��|^^~�C�VC�\\x0e;��L\\x0c��x8�l\\x0bZ�r\\x14�=�Z�ZE�>b���Jb��x�$�\\x1b��q�\\n�\\x1b܊A�A�,@.I-6hRr!op\\x02�y������`�D(0ge��V0\\x08\\x1c\\x16\\x13�\\x03��� 0�Ɵ\\x1b9<;\\\\�{̙e\\x08Ma{<pH)0���0��!�\\x1cu�i\\x0b��sYC9\\x03��ըI�E6��=ǁ�\\x04�d���_?{WS�!�R�$\\x01Z���lb�H��t5L��`�˧�̱Z�J�3%�$\\x08ņ\\'\\x0f��\\x12O�X_���l�\\\\7�\\x06[u.-�L4�U��\\x1c�D��A�I�kr\\x02��KS�\\x0b��\\x14�w��%�r����É��\\x1bbԷ�\\x06��BՐ\\x13�/��R���O5~�h�X�\\\\1&\\x07��,�_���}=\\r]ﻶ?�y(��gd�b�x1��,�**�\\x1b��AW�\\x12t�\\x18Z�\\x13����⢁LH�\\r\\x17�Wϻ\\x0fh�xl;�\\x7f�C����O\\x04�q݉�;�v��\"\\u0383��\\'�=2�Ut�\\\\��ҧ3Ij�t&FW�\\x0c\\x04<�\\x188K�&�\\x14@[\\x18���\\x1d���u�\\x18c\\x13���c~�-w�/����-�21���\\x11�>\\x1d\\x15K�h�eP�ʍ�6\\x0fo�u�˱�\\x7f:�����N;w������~|=�c[_ZU�O����k\\x1b8\\x08�\\x12\\x0bę!9Vq�V�xw�8/�S\\x1d_��c\\x1a\\x12zzg,�5%A��\\x10\\x0fΪ��Q�\\x18>�\\t\\x1d3�:�U�7;��缂Rv�˧�=7�}��\\x17V4T�\\x10�21d����ޒ�%���n#;�\\nMNL��t<}ޟ�\\x1f�i�8��{�N\\x00��W����\\x00F{\\x11G�z�:���A\\x06�@EAs��\\x02�/\\x00�\\n\\x12�\\x08\\x14��s���I��ﶡ�+��HLq�ů�\\nm)�ú�jOh&v�3T��0���59\\x15Rʀl�8\\x02���\\x11J\\\\�Fi\\x7f�\\x0c�)�v%��3�`�]�;~\\x14G�=}\\x1d�&�m�LI�y褹�Q�ȴ�\\x08\\x05�Y�VҮZ�Bm�\\x1c��m\\x1d�wu�d��2Z�u�̯�U�T:\\x14����T&���8\\'\\x05��%��}܄\\x12��[�[\\x14�\\x7fO\\\\��r�Z\\'~%.��#B>�ZE�\\x16\\x16���d��<�o\\x0fi��,��~Of��\\x1f�mp�\\x03����*\\x14�~)q%<\\x0f���+T7>1rq\\x19�3.s;<ߙ\\x1d���6���a(������8�\\x12\\x08B�#*B�$ڄ\\x13�#v�\\x0f��\\'~O�����y�\\x08�R]��\\'�6��jq~|(Js�\\x16WDj�\\x17�k\\x12<\\x12]��\\x00��U=\\x15\\'=���J8����8\\x17�(�5���>�{���{�\\x0c�?��>�2���j�\\x1cA�\\x14e��vuO~)�\\x05��Q\\rz\\x7f>�u\\x02�h1Wʞ0�d�E����{�>-���Jb��}U�?�l�Q\\x17H��d���\\x1f\\x01�z[�W���Df�3�Y�@��q�G=���\\x181*u�\\x12���5%�V�Ѓ��P\\x0c��Zi���6a�G(�\"]W<\\x0f\\x19�\\x0b�F1\\x7f��{�K�\\x1a���Dܖ��?��6#*����c��?`O\\x14fH:��\\x7f�\\x02�B\\\\�[��<��k�l�\\x06���\\x1c�\\x05\\x1f\\x08�c���xv{�2{�oG��˚�\\x01��\\x1b��\\x04T�\\x11у�*\\x07�$E������g�\\x1e\\x7f\\tzZJ�2���;�H\\n�z�Pdi ) �d7\\x07(m=�C)km냙0�|�\\x0e��Jj\\ra\\x11����\\x10�H?���Q����ʮ����~\\x12�q��.\\x1bX�>�(����y�\\x1b�=|\\x02��\\x04|ų\\x02�U\\\\K7kEg+4��ry-\\x10��&���YA\\x1e\\x13CU\\x14�j��\\ra�A}�S�N)��x�]�w\\x06\\x1bs\\x17���\\x08�]gQ\\x17�\\x06(��O�\\x08��\\x01�\\x7f\\x0e\\x1c����m4e\\x11��E`\\x1b�\\x1bXi�ܮq�iL�T�YC>�2SS&!����\"\\x1f,�:7�~�: �ۥ�\\x17+�j�@�&\"�Ļ�θ-�\\x1f�c�,� \\x15\\x15d�>�̧����B(��\\x19\\x18����q}�J�Gh����R��^�h�-h\\x15B�F^r/X�\\x0c\\x15݃TԂW\\x1f�η�&�\\x1c٭\\x01�ĕ]�_��Qd\\x0e)��\\x1d;qDµ]�.�`\\x06�\\x04�\\nn��A� �p��8�=�I=��ܣ斘*-�����D�i���l_\\nn.����l��o�����\\\\�1n�o�A�M3\\x1c�?��A�rv^�L�\\x16��\\x18��Zz��\\x1b[�\\'�2�ёT�϶���wnw?o6��n��߹�ڔ�\\x13v�)T��>\\x1ck��\\x0c�yӈ���\\x01Ab7&F��V��\\x04A��\\x0e˘h�M��m�\\x14���{n\\x04\\x1fқ:=�F\\x1d\\x13èd<�_t\\x06\\x06�\\r�[ly\\'g�6ߔ��\\x1e�D�\\x12�`�<�`��-&���#\\x02M\\x0b?\\x17�\\\\\\x06\\x1d�~��\\x0e\"<����,odD\\x08;ʵ�ѯ&\\x1e�R|]�[wF\\x19=��?\\x14=O�{\\x16\\x1a����t\\x10O���lƋ�f�j�6�������e\\x10��&�����=�i\\n0\\'�@�\\x1ek��=\\x14�23�\\x1d�TgY(�2��\\x19\\x02B1��i�o0�t����\\x1c��\\x17��ޅ��y\\x10�]�%/>=�\\x0b>&�\\x10�Z���Y��\\x04�\\x10&+����\\\\�>ǀ\\x7f����������\\x1d\\x07\\x0b*\\x0bט�9!����K`\\x18��mjҁޛ\\x01S\\x0b_a�a\\x10����\\x1a�\\x1d\\x1d\\n���R�P�\\\\�������\\x01c�ӳ�<&��g�\\x06�8�y G�A���C�\\U000833f1�\\x06�̍#�,\\x14Tj�7���O\\x11�\\x1aX*�u�\\x01Y�W7����ԤF�/�!���^?��~��\\x1a����� [;�\\x0b�s\\x16K�r��-^!ܐ�`;=\\x1fl�$�T3\\x1e\\x02�p��[6F\\x1b;��G�T(�\\x02��KA�D\\x0cS�̕\\x19��C�o}?�<��aT�p|�QA�\\x0ck����M\\n���E�+�tEw���m�&�y3�ɽ/\\x7fG�6��y�\\x00�1\\t�z��P,\\x16�I�Y��\\x18����\\x10�gAO\\x13\\x02=��\\x03�&M�F�7\\x15�\\x0e�A�ބ��(\\x0e$��^�(M>��8 \\x01�I��0�t@����8\\rǃ���C�,\\x02j\\x02\\x00\\x08��b\\x05�\\x15-o!�/BW�\\x19�\\x17�g-��\\r�)\\x15�)��#�9��\\x02Ln�B)��u@9-j���I\\x07e-N�����l\\x1e�E����i0�\\x1e\\x15�\\x18�\\r���k�C�\\x0bCQ��G\\x1e�\\x0c����\\x0c�6\\x18n�&\\x02���\\x0f\\x00�ʲBtu|G�c����\\t�����_�sw�]��H�\\x13\\x07��\\x1f%3\\x0bUsD2�#��~���\\x16�h�0D*\\x15oc�ȍ�\\x08\\x17[{����y_�j��#\\x1a�+l�an�>\\x00\\x17^�/�?��\\x1d<�n\\x17s���1��\\x13��AxŶ���3��\\x1d��Zg�OIa��\\x1e������\\x7f��|/�LЫ���Bj���>Ҥ�l@B�\\x0cLaɈ\\t��iR��\\x03j�\"-e�\\x1f�_�sD�\\x10����;�.�Y��y�y�Q\\'\\x16�g��G�0\\x14Y-߮��$Ʒ��\\nߩ\\x1d\\x06��i�����\\x0b\\x1d��9I�q#�:.�:�\\x1c���%�\\x06\\x0e��,V��-���ɼm��npx�\\x06�~t\\x1c�T�\\x1b�\\x04!��g�!ė&��<ߠp�I��f��Px\"�\\x08r\\x0b\\x11y|�\\x1a���\\x07��\\x7f�\\x00_0g7�\\r��m#>�;�<,�j��e����X-�\\x06�sh�\\x0b��\\x02-la\\x1bI�\\x08u9.�\\x06ݮ��\\x12�(\\x11��ß\\x7f�?Έ��?_\\x0bY#�X�5H��\\x11�S\\x7f�k媒����.�\\x7f�8X\\x02\\x02)��\"���^V�a���C�]���d�\\x06��t$uE�\\x15˯Xی�JK��\\\\U�\\\\$�|ؗ�/n����x�h�s-\\tUG8SL�b���\\x0e\\x1d�v�<�\\x16�es\\x1e\\u0557��}\\r����ő�X_\\x01(\\x0b%�1\\x10\\x06�\\x1cs\\x04\\x11*�Q�>�\\x0e�\\x17�Շa�N:\\x13H�xmg���olA\\x08>\\x03U\\x1d\\x04���η՟j�w\\x18\\x14���;\\x16� nH\\x1d[C\\x17�j)u\\x0fv7;��/}x�\\x7f8]�� ��4�ZH\\r\\n���=\\x7f���d?��\\x05�}�ՙ�imV:\\x05傲âz��+�8�B\\x12t�8&z\\x11�\\x00���O+�vR�澡�\\x10яM\\x1c�3*��Nb�Tu2~\\x1bVM�#��\\x17\\x14\\x1b�?����S��xZ�ΥH̃���:\\x03��E\\x0eߥ�/.�\\tjE\\x03t��\\x1b�\\x7f\\x12�z���r�Պ`�*+G]��\\x1eS<��{pE]�\\x19\"y\\x1d��[gT~�Jj�Tw1����\\u0604��b�\\x14BbL*��j�Úo����Vt�x��\\x0fh�5x�62�)��f��\\x1ar����ڀ�\\x13d�=-��U���\\x08Y,�8!\\x19\\x02VR����O\\x17\\x03=�h�q\\x18�Ub1=L�5\\x05,�c����mF5A�\\x08Lc��l\\r=#=H}��\\x0b��\\x0cOy�a��s\\x10X��#V\\x1c\\x0f�B�x�D�`ye��oc\\x19\\x08���ү��\\x0bI�o��xi�8�\\x19�\\x1a\\x07\\x00K��ȗ\\x7f��O*)����\\x19�\\x01]%\\x16��\\t��2i��-3�Lğ�Q}\\x14������[\\x11�`!��\\x11�\\rlZ\\x03z�\\\\\\x06f��\\x10�B �\\x05��\\x00�\\r�\\x06Y�T (��3�m��nn|\\x17����\\x0b@�\\x18�l�ۣy06��\\x04�U���\\x0c\\x11\\x1d5�diE�nu�T\\x0b��\\x03�\\x16�\\r\\x16B����m�4�b�Ώ6ۃd�\\x11z+��\\x19h\\x17���e�}F\\x13~=\\x18�pⅫ���[@���l<e�\\x00\\x18;\\x14�>&�\\x1e��d�\\\\�T=���V�p\\x08p�ҳ\\x19\\x1b)i�e�8\\x0eҘ���\\x102M�mv3cQr��\\rF�}ȕV�<�\"�έ�={$>���U�j2�M����=3\\x16\\x02@\\x0b�K�����\\x18�j�O�]u\\x12b:\\x19�\\x11Q�\\x1c�\\x1b�z<\\x16��j�\\x008��\\x08x�5B&�̛\"\\x13\\x06�\\x0et�7fH�<��G\"̡\\x1b{\\x03?�`�us��\"�&\\x05\\x1eLG��E\\x18�x�m�(@$n�O�qm���^�o�r��)B\\x06��\\x1cU\\x7fx�i�`�4�&�\\x10�g_��]�U\\x0c.c�\\x11���-t�\\x15F�\\'�6K,��H�Y�3�M�L�����\\x03V;l�f\\'��?\\x107��\\x1d�W\\x1f@Z��n�&��y��\\x13��g���\\x00��<�t��H���dO�Қ�\\x0b\\x07Fg��?;r��Ac���\\x10�����\\x0f���#�s��W��\\x00\\x15�]�0B��i\\x07v~�\\t,����ڴ��Y�\\x1f)��?F5�{\\x19��$/\\x06��\\t\\x01� \\x072��*�o\\tI>�~���� �l �.w�N����߈�;�(���6�\\x03�ElT�k������d\\x1cRFg:����\\x06ãs�\\x19����ƙK1��t�bY��)?���dس`ny;�\\t�%cG�Gl~-�R�od���\\x1b?�b�F��\\x1aou���اP�\\\\\\x1e\\r�A:;�>r�g�a�\\x0eQ��R�H\\x1f�y�\"[V�\\x1a�a:\\x07\\t(���m�\\x10��}�!>p\\x06������5&A�&�Q�yUl�A\\x1ăo\\x11�y�\\x15���6��\\x00\\x18�.�Ԛt�\\x10�i\\x13Ȕ1����\\x00��B7KKu�U⓪�X\\x1e2\\x1d�e\\rT��O\\x13\\x04 ���1��L����^?�^��U�� `�QSkA�����\\x81��\\x08����g2Rq4 -�\\x0b\\x0bv%�}\\u07b7�\\\\��_��h�qj��\\x7f���L�U�U⍨�@q��!�?.\\x0e����pDѦ?�����˟��o���__�o�/�1i�����MSh��\\\\���)����_��J&t3\\x1c\\x1eĎY�l�z�\\\\c\\x1f[�hh��`+��&g�~7�d6A[41��w\\x0cm���\\x04�+�G�\\x1c�3Z��:���\\x1eG�l\\x06����\\x1bl6jK���\\x10���_R��~\\x1f?��o\\x03\\x01�%�[\\x01s����\\x1d�!��}\\x1cR0<}\\x0cv엻\\x03�\\x01.Yʠ�T�\\x01�\\x07L\\x02��n\\x08�x�+�_���n��\\x15ң�#��W��Z\\u0604l�U�:�Xݍm�\\x00XV\\x07xk1̍s\\x7f6Do\\x1d})(��\\'C�����r�\\x05]�\\x08��\\x15��g���\\x1e�F0�u�vYXj�\\x7f���=,p����kI1LK���eH��M��\\x03�X��i�B!�\\x06���lR\\x07\\x13�(\\\\\\x00�Ir��jZI?9 d�C\\n�\\x04]���ц�\\x11;pWu��f�Q�`�^{Q�!#����1\\x10\\\\x\\x06̾�K���Jz�\\x14:F�A�C��X�m��\\x07V�ǋkJƍ��3��fj�ǉp\\x08i��>,\\x15\\x1cᝋ$>\\x1ei��z��d\\x1aHz�yX�\\u05f5��,������� ���<%}@!uӠZ�ϛ[�\\x0c�8J\\x0f�у��Ym��x�\\x0b��1�n�Ӈoٳ`\\x08��<\\t�9�=sґ#~��1\\x1bw=ɔ�=��\\x02�\\x18�cv\\x1d%��ƨ��\\x7f��u�ݯ���\\x01�D4D��\"���;۹�?͛��\\x08\\'۪M-\\rYVm��\\x7fs�E�;�\\t�\\x06���A�sj\\x07/���\\x01^�/T�#\\n��,\\x12}%�\\x13\\x1f��#BQ\"\\x03Gdu�\\x1b�g\\x17sK�ҳ�\\x0bΪ�d`.[FP�X\\\\DZ\\x7f�����$�\\x19�R\\x1b���>����F>\\\\che#�ѽ��wI�l�p�kz)U\\x12��M�ƻ���I4D\\x00��)\\U00034976�M4�VS�\\x0c��u�dF�Q\\x12���cw�Gf\\x0b�&�~@N��B�%e��\\x1e\\x14��u�Bi\\x18\\x1f���GAG\\nV\\x153H�Έ?�t\\x14L��U\\ue5d8�/<A�������N�dj=i0\\x05a}B\\nt�\\x1fA\\x08\\x19s4m�\\x1b�|\\x08W#���;�$��j$m�۶�Lf\\x15�\\x1c�G\\\\��.����n�!�\\n�O�����+\\x10\\r\\x182�}0�~d}�J�cKA�\\x0f\\x04�F.z��\\x0cP�u�Q\\x10\\x17�?\\\\�B�\\x0e�eK�\\r=ȴ�\\x1d�@g��x!\\x15�EP�\\x17z�/á,��ݹ�op�6[��\\x1fO��Y�acr��Q\\x0b�٥d+\\x02�#�艴9fR-��ĸ���\\x17�^��\\x00;2�C�EX\\t��ʠ\\x13�e\\nI\\x1b�\\x05\\x15���ʀ\\x00G\\x01C+Zf�&�\\x03-�q(F0AY5\"�0;�s�\\x0e\\x01m��uQ����\\x07jćϻ�X�S_�^b��N�X}\\x14�l�j4�$�\\x11\\x1f�������t4�\\x1f��y�!����^S�̘\\'<%L��\\x0b��`�#�K�m?iV�\\rZȅo�Р\\tEI\\x11��\\x04���\\'��\\x15<`\\r�i84\\x07\\u07b8�\\x0b#�\\x1a>\\x1e����f��c�D�2�L�m�\\x108S�<�^\\x18�\\x13��e��X�q�\\x1d[\\x7fc�N�q|]�\\x05�Ǐ��=�d3\"�:��\\x08�����\\x00d�����G�Pe��i���cf��7��i����w�q\\x00e����퓳���F?\\x04�n��-�Ĭ\\x04]T\\x13<�Ԑ�⺝6\\x1c��m_[i\\x13��^�\\x06\\x07�5$y9Q�ߖ���{&��-���0\\x11�P��A���l�\\x05��x7�S��@2�ί�,J��k�\\x11��ƶ��$\\x04���c����O�D��tg�A����\\x17\\x1bV���\\\\\\x10݅X�=卲��\\x1e�7�H\\r�\\x0e\\x1d�\\x15&�v���K�i�:\\x07K�r�%p\\x0f�j�|#ʖ�\\x16[��a�T\\x17%\\tF��\\x02�\\x1fw�J �V\\x1c:�#\\x1a9�h\\x11u�,�jV)UW��f\\x153\\x1d�wӕ\\x01�C��Wߖ�a����붟Vvh�yb\\U000a3801M?ߙ�\\x18~!��`ҒEq\\'\\x16�-\\x0c��8%F0��� �\"�����E��\\x0f���ƨta\\x03\\x0b��.�Ov[�\\'vO\\x18\\x1d!�bN\\x07����ȉ\\x12��2_f��H�j�K$�\\x03e�4�:{}?��~g:]Ϗ����i���}����_��ߜw�h\\\\�>\\x15\\x06\\x07��~Bs0��f��\\tg�Y!�E��;�b���<\\x08N�A�ר\\x0c\\x02\\x17�\\x02��ճ�)ylii���^��#����e\\x0f�G��`&���+�˓�c����\\x12�rz�,�Dd��4\\x03<\\x1d\\x0b\\x0b�\\x12�~�.Ϯ\\x17��er�i�S}��+G;�\\x12�$\\x15�\\x0e;��U��ʚ6���\\t�\\x04�rR�N0!\\x0e#��P�4�KnC�)�,j[\\x1c�)�\\x1c�\\x7f\\x14��\\x1a��\\x15���D9\\x0f\\x07�<\\r�,;xċ�#=ݜFj\\x06���2U\\x1e����\\x10.w\\x071�\\tpc0�7Ga����VU��86 �h�/�B���%��EX���]ֲ��6��#�\\x13�1n\\x03ni>\\\\�<C\\x10��l\\x1d}/��aB���=��\\x14�\\x12\\'���k��w��U\\x0e�p�?zfD��\\x05��fs�=u��S��i��!)2�\\x14U����6@C����\\n�yG���viY�&�,:>\\x02��=p\\x1bfI+���![j�\\x19��K�k�F�C�p�k��H�AP�Q�R���}�>\\x19�3N?\\x17��\\x1fI\\'ʒ$�;\\x02@C\\x13�~���q�no�\\x00j%iFK��s��\\x0b��C)7�\"\\u07b6T\\x18\\x05\\x06\\x18��T5-%��g�( ��\\x08�W�0��E��H��_�\\x04�7�\\x0e����u��\\x01ܦ&�\\x19���IIO\\x15��?\\x08�-v�\\x16\\x10Q�t�(-�[��~�~�%.tR�\\x1dذ]�\\x12wo��JI\\t#T`uT�`�&Le�oN\\x15����\\x1a��I\\x15\\x01h��Jݓ���y��\\x0f�X5�ȑ�f�\\x19\\x05J:�d��z��\\'H�xV�&�\\x0eg������u�ǟi9���\\x1e��|�~o,\\x08\"�Vg~\\'Z\\'w�\\t��t])S�F�j�\\n+6]�-R���Fl��\\x06�hAm��\\x03h�\\x14&���Rl�\\x06:0��$<\\x1e#qu\\x03p�\\r1é�\\x13Im� �\\x14뙱H�\\x0b�҅s7��@suJ_Sh�Z�k�i:�!\"hE&�(kTL�����x�ˡD\\\\��\\x02��no\\x12�up�\\x00�d�)��\\x0fdI�W7�\\x02��ǟ��\\x0f�j��\\x17�1|D�w�ɜ\\x12�,3\\x0e��1.�3b\\x02\\x18r\\x1cY9?�9?��m���}rq�_u���-���cgr�|}�Zaw���\\x16�\\x1b��r�V,q�xs%敁��\\x16�f��kT�\\x0e�A.�J�%\\'��\\r\\'?\\x06r������ݣ�o��\\x1f�\\x03\\x0b\\x13s�\\x07?xD⻤�����-\\x0b�r\\u05ebvi���2���,ۏ��\\r_�%5DM�\\x0e�^�L~ײ�5<�.X2s��\\x1a\\x15\\x19�\\x1a��hƃ�TQ[�`�ҟ�=*;\\x1f�y~T\\r\\\\�H���\\x14\\x14�g>�n)�=$7vL\\x11!�!���sK�/�D\\x1b�_B�=�\\x02\\x1d\\x13}�\\x0fiF��쿖�8V{�)�/���-����<\\x16\\x13\\x00� �6Ɗ7��5\\x15�\"\\x10n\\x06��\\x00 �{�t�\\x05���$���9\\x0e9`\\x7f\\\\\\x02�Z+�\\x07�Gڧ\\x0b�\\x11\\x112�C_s�\\x14D\\x17a\\x00�{vw��\\x08BHV���SQ[Q�FƆ,���~�I�`\\x16\\x13 @J�L���R�����R5\\x15�1\\rK��\\x08ޒ$%]�K\\x18�\\x10Œ\\x18;�%0��v�*љ�x����n�d\\r�f\\\\�\\x1cA�+Dc~Ʈ�a4���19�]\\x03\\x0f/��|i��(�i�Ö\\x0f�P\\r�\\x0b���\\x14\\x19�x���[\\x10\\x1ceu�%\\x1b����r6�\\x1c��\\'�[�w��Pi�Y�9%EРD�F��9\\x1aڏ�r��d���>\\x00\\x0e\\nf<@Et\\u05fdͨ\\x1e��\\x03a\\x0b�\\x0f���\\x00��\\x10�2\\\\�_\\x08j�\\x08ߎ�R�b�\\'�b�X��!r\\'��+ޫ� |\\uea0d�\\x17oh>0��\"&Nl�S0�1w\\n�7�h에SQ����RA�ԑ��I;�\\x1e7?�k\\x02�\\x1b�T^\\x0fY\\x1e-�\\rP.�fT�K����8�{z\\x06��ᘊD���̠�\\x0fM�%���NW\\x1dZ�1�u�?�x��v�r��\\x10�K�EW�%5\\x015���p#0�(��-z<��\\x1e��%^��|\\x14v\\x0b_cZ�>@Ll\\x10\\x1c_\\x10sS=�Ѿ�惊�C�\\x07�H���o� �cj��ݻ���hh3����h�\\x16?\\x1e;\\x18�$�elxS�#X�w\\x08K�\\x04T�\\x13�E\\x03�(�.�r�J�]�\\x10�X߿s��a~{~X��!��@��\\x17������8�g�u���J�E�xT��A\\x1b\\x05���v2�\\x1a�+L�E�1��s�\\x18�Y��#*�Wwo�\\x01F�l�?��Om�f{l*~6��pp\\\\T\\x12\\x7f\\x19,�;�,i\\x12P��q�.!Z\\x7f�\\x0ex�~\\x16-�{�\\x0e�p>�\\x05���\"�p~\\n\\x1d\\x01MH�\\x0c0Ύ�N6��\\'\\n[���;����i�d�\\x1afi�R]�\\x0e8�=\\x04�\\x013ES�ߢ�T�m���{^\\x1e\\x00�\\x14�>�u��\\x03��!ѣ�(�_Y�\\x04@�;�ȅ\\x0f�\\x04`\\x10Բy��N���L�m�Yi\\x1e�$\\x04\\x1c�R�m�Q\\\\-���\\x19��\\x18�R�\\'U���\\t5\\tG\\x18c\\x03�\\')���u�a\\x05���g\\x1f��\\x0f�ꩍ��4C��\\x01��D\\x01�{���I\\x16��\\x1d�=�$!�(ʚx�\\x0f7\\x04�S\\t�4�\\x07�\\x07�+:ݿ�t���n;��\\x13�O���\\x1e���xZf\\x012�\\x11_SM\\x17\\'=z��X�l`\\\\?�tAו�x��E]e��b�ii��\\x04;B��`P�\\rQ��J�W�H�C@�\\x10Fl2�Ǳ³�\\x185DܙU�>�5���c\\x92&ѥ��\\x1c���e%ѣA��Q�Ud\\n8G�e.�}�\\x03\\x01�#���\\x07�\\u074c�9\\x0f՛U\\x15\\x18�q���\\x00�\\x16����?a�+D&����q\\x1eBǃB���ݼ?�@���N\\t\\x1f�̥\\x02�\\x18�\\x14?��̝�H\\x11C\\x154�.ވ��8�\\x03�C>�\\x10�-��=��x�mi\\x08߂�n\\x0bS�Ϩ�u�Yf�>:$��5�%��YRT���i*\\x04�2���-��>`��T��l�ibvg�N��y�_\\x17�Y�\\x1d�\\n>݂�Ty#4\\x0c���\\x10���_P\\x08l��䮗��.۲���\\x15\\x13�c\\x0e�����ؖ\\n�����زAߖN��D�\\x1f���\\x0e�U,�h3��\\x17k鈊WX�ҥŖ���:��%�[�+�B��|ʪ�㰇����t+\\'�Qd�\\x0ey\\x142EJ�X�\\x11��Cg\\x0ffP�p�\\x12u\";��><\\x16A\\x1e�\\\\\\\\��G(\\x02��<��J�\\x13�\\x164n5^��V�\\x0b\\x1d\\x11��Ϳ0X�m*��Wf\\x03\\x00;.�J�j����L�x������N\\x04@̤^$\\x16��ft�Ϡ�<?\\\\Mk�\\x1d���\\x15*ޯ�\\x0f\\x033�b�0\\x1ds�\\x02\\x16�U�lȘn0�:��\\x08\\x0bS��m��$⬅m����\\x1e懑�\\x1c�аd\\uf798�4�,ˉҨ�;�^��B�*\\x0e�����r\\x061��!���[��\\u05fd96kY�nV��+`\"k�=4�@��\\x15��M��֎A%�E\\n[�\\x16��lY\\x1a��M/b���Q�!o��P�n�\\x16%�?d� hm\\x15N���E���\\x04�x�Q\\x1di\\x15���\\x00��\\x0b�\\x06\\x7f\\x04!�:TX��q\\tC�[\\x00\\x14��H\\x03l�\\x06�fX�-R_ӫ�E}`�9�w�.wѹ;�rq�xVń���gI;�9\\x17��\\x14\\\\[�E\\x04`OOǴ^��b{㊐���\\x0f���qެ�3�m\\x13ٔU��y\\x02u�w�t\\x04�\\x1dU��\\x13���B�\\\\g>|���\\x1c܃�{Q�-�s0Ė�cz&�$^eQah\\x1fM(�\\x00�C���(\\x06�\\x10\\x1eOż=��r�d�\\x04��\\x04\\x12TT�[\\x11z\\n7\\x04hm��I��Z\\x0c\\x1d\\x01\\x1c�D���\\x14\\r�\\x17�\\x1e<�䮋�B��Ae\\uf58a�4\\tȒ�X#��0��,�3\\x140�a;Qx���t�N�b[W�6\\x16\\x1fi�\\x1d��F�o\\x02�\\x13�iwp�\\x08�5%%����1\\x19�\\x08�\\x19\\rդ�\\x11�R��-�)X���\\x12{8x�,P�;�%�$���0�f8rd\\x1a���H������\\tZ۪��4F�\\x1c�����@%�\\'�B�\\x0eX��E\"E��\\x0c��1@ѣn\\x1a�3\\x1a9�^2b\\'jJFt���������f\\x10��8��TI������5E��L��1ְ�W�\\x18u�ʳ���v�D\\x1b\\x083�\\x0bl\\x17\\x03�?\\t�D���S�/$��_\"��G$�\\x0b\\x15{��\\x12e��\\x044���������������>��\\'n�&������b�D����r\\x08H��{I��=ɯO��{��?%SOxz\\'\\x0f�\\x14}�qW��AL(�����X\\x03�1��\\x07'"
      ]
     },
     "execution_count": 21,
     "metadata": {},
     "output_type": "execute_result"
    }
   ],
   "source": [
    "response_text"
   ]
  },
  {
   "cell_type": "code",
   "execution_count": 22,
   "id": "4629bcb2",
   "metadata": {},
   "outputs": [
    {
     "ename": "JSONDecodeError",
     "evalue": "Expecting value: line 1 column 1 (char 0)",
     "output_type": "error",
     "traceback": [
      "\u001b[1;31m---------------------------------------------------------------------------\u001b[0m",
      "\u001b[1;31mJSONDecodeError\u001b[0m                           Traceback (most recent call last)",
      "Cell \u001b[1;32mIn[22], line 1\u001b[0m\n\u001b[1;32m----> 1\u001b[0m data \u001b[38;5;241m=\u001b[39m \u001b[43mjson\u001b[49m\u001b[38;5;241;43m.\u001b[39;49m\u001b[43mloads\u001b[49m\u001b[43m(\u001b[49m\u001b[43mresponse_text\u001b[49m\u001b[43m)\u001b[49m\n",
      "File \u001b[1;32mc:\\Users\\Asus4\\AppData\\Local\\Programs\\Python\\Python39\\lib\\json\\__init__.py:346\u001b[0m, in \u001b[0;36mloads\u001b[1;34m(s, cls, object_hook, parse_float, parse_int, parse_constant, object_pairs_hook, **kw)\u001b[0m\n\u001b[0;32m    341\u001b[0m     s \u001b[38;5;241m=\u001b[39m s\u001b[38;5;241m.\u001b[39mdecode(detect_encoding(s), \u001b[38;5;124m'\u001b[39m\u001b[38;5;124msurrogatepass\u001b[39m\u001b[38;5;124m'\u001b[39m)\n\u001b[0;32m    343\u001b[0m \u001b[38;5;28;01mif\u001b[39;00m (\u001b[38;5;28mcls\u001b[39m \u001b[38;5;129;01mis\u001b[39;00m \u001b[38;5;28;01mNone\u001b[39;00m \u001b[38;5;129;01mand\u001b[39;00m object_hook \u001b[38;5;129;01mis\u001b[39;00m \u001b[38;5;28;01mNone\u001b[39;00m \u001b[38;5;129;01mand\u001b[39;00m\n\u001b[0;32m    344\u001b[0m         parse_int \u001b[38;5;129;01mis\u001b[39;00m \u001b[38;5;28;01mNone\u001b[39;00m \u001b[38;5;129;01mand\u001b[39;00m parse_float \u001b[38;5;129;01mis\u001b[39;00m \u001b[38;5;28;01mNone\u001b[39;00m \u001b[38;5;129;01mand\u001b[39;00m\n\u001b[0;32m    345\u001b[0m         parse_constant \u001b[38;5;129;01mis\u001b[39;00m \u001b[38;5;28;01mNone\u001b[39;00m \u001b[38;5;129;01mand\u001b[39;00m object_pairs_hook \u001b[38;5;129;01mis\u001b[39;00m \u001b[38;5;28;01mNone\u001b[39;00m \u001b[38;5;129;01mand\u001b[39;00m \u001b[38;5;129;01mnot\u001b[39;00m kw):\n\u001b[1;32m--> 346\u001b[0m     \u001b[38;5;28;01mreturn\u001b[39;00m \u001b[43m_default_decoder\u001b[49m\u001b[38;5;241;43m.\u001b[39;49m\u001b[43mdecode\u001b[49m\u001b[43m(\u001b[49m\u001b[43ms\u001b[49m\u001b[43m)\u001b[49m\n\u001b[0;32m    347\u001b[0m \u001b[38;5;28;01mif\u001b[39;00m \u001b[38;5;28mcls\u001b[39m \u001b[38;5;129;01mis\u001b[39;00m \u001b[38;5;28;01mNone\u001b[39;00m:\n\u001b[0;32m    348\u001b[0m     \u001b[38;5;28mcls\u001b[39m \u001b[38;5;241m=\u001b[39m JSONDecoder\n",
      "File \u001b[1;32mc:\\Users\\Asus4\\AppData\\Local\\Programs\\Python\\Python39\\lib\\json\\decoder.py:337\u001b[0m, in \u001b[0;36mJSONDecoder.decode\u001b[1;34m(self, s, _w)\u001b[0m\n\u001b[0;32m    332\u001b[0m \u001b[38;5;28;01mdef\u001b[39;00m\u001b[38;5;250m \u001b[39m\u001b[38;5;21mdecode\u001b[39m(\u001b[38;5;28mself\u001b[39m, s, _w\u001b[38;5;241m=\u001b[39mWHITESPACE\u001b[38;5;241m.\u001b[39mmatch):\n\u001b[0;32m    333\u001b[0m \u001b[38;5;250m    \u001b[39m\u001b[38;5;124;03m\"\"\"Return the Python representation of ``s`` (a ``str`` instance\u001b[39;00m\n\u001b[0;32m    334\u001b[0m \u001b[38;5;124;03m    containing a JSON document).\u001b[39;00m\n\u001b[0;32m    335\u001b[0m \n\u001b[0;32m    336\u001b[0m \u001b[38;5;124;03m    \"\"\"\u001b[39;00m\n\u001b[1;32m--> 337\u001b[0m     obj, end \u001b[38;5;241m=\u001b[39m \u001b[38;5;28;43mself\u001b[39;49m\u001b[38;5;241;43m.\u001b[39;49m\u001b[43mraw_decode\u001b[49m\u001b[43m(\u001b[49m\u001b[43ms\u001b[49m\u001b[43m,\u001b[49m\u001b[43m \u001b[49m\u001b[43midx\u001b[49m\u001b[38;5;241;43m=\u001b[39;49m\u001b[43m_w\u001b[49m\u001b[43m(\u001b[49m\u001b[43ms\u001b[49m\u001b[43m,\u001b[49m\u001b[43m \u001b[49m\u001b[38;5;241;43m0\u001b[39;49m\u001b[43m)\u001b[49m\u001b[38;5;241;43m.\u001b[39;49m\u001b[43mend\u001b[49m\u001b[43m(\u001b[49m\u001b[43m)\u001b[49m\u001b[43m)\u001b[49m\n\u001b[0;32m    338\u001b[0m     end \u001b[38;5;241m=\u001b[39m _w(s, end)\u001b[38;5;241m.\u001b[39mend()\n\u001b[0;32m    339\u001b[0m     \u001b[38;5;28;01mif\u001b[39;00m end \u001b[38;5;241m!=\u001b[39m \u001b[38;5;28mlen\u001b[39m(s):\n",
      "File \u001b[1;32mc:\\Users\\Asus4\\AppData\\Local\\Programs\\Python\\Python39\\lib\\json\\decoder.py:355\u001b[0m, in \u001b[0;36mJSONDecoder.raw_decode\u001b[1;34m(self, s, idx)\u001b[0m\n\u001b[0;32m    353\u001b[0m     obj, end \u001b[38;5;241m=\u001b[39m \u001b[38;5;28mself\u001b[39m\u001b[38;5;241m.\u001b[39mscan_once(s, idx)\n\u001b[0;32m    354\u001b[0m \u001b[38;5;28;01mexcept\u001b[39;00m \u001b[38;5;167;01mStopIteration\u001b[39;00m \u001b[38;5;28;01mas\u001b[39;00m err:\n\u001b[1;32m--> 355\u001b[0m     \u001b[38;5;28;01mraise\u001b[39;00m JSONDecodeError(\u001b[38;5;124m\"\u001b[39m\u001b[38;5;124mExpecting value\u001b[39m\u001b[38;5;124m\"\u001b[39m, s, err\u001b[38;5;241m.\u001b[39mvalue) \u001b[38;5;28;01mfrom\u001b[39;00m\u001b[38;5;250m \u001b[39m\u001b[38;5;28;01mNone\u001b[39;00m\n\u001b[0;32m    356\u001b[0m \u001b[38;5;28;01mreturn\u001b[39;00m obj, end\n",
      "\u001b[1;31mJSONDecodeError\u001b[0m: Expecting value: line 1 column 1 (char 0)"
     ]
    }
   ],
   "source": [
    "data = json.loads(response_text)"
   ]
  },
  {
   "cell_type": "code",
   "execution_count": null,
   "id": "e7ebac05",
   "metadata": {},
   "outputs": [],
   "source": []
  }
 ],
 "metadata": {
  "kernelspec": {
   "display_name": "Python 3",
   "language": "python",
   "name": "python3"
  },
  "language_info": {
   "codemirror_mode": {
    "name": "ipython",
    "version": 3
   },
   "file_extension": ".py",
   "mimetype": "text/x-python",
   "name": "python",
   "nbconvert_exporter": "python",
   "pygments_lexer": "ipython3",
   "version": "3.9.0"
  }
 },
 "nbformat": 4,
 "nbformat_minor": 5
}
